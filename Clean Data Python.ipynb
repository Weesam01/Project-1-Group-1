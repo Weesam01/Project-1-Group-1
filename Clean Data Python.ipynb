{
 "cells": [
  {
   "cell_type": "code",
   "execution_count": 17,
   "id": "355a3cec-e2f1-4442-b779-d0b798710a92",
   "metadata": {
    "tags": []
   },
   "outputs": [
    {
     "data": {
      "text/html": [
       "<div>\n",
       "<style scoped>\n",
       "    .dataframe tbody tr th:only-of-type {\n",
       "        vertical-align: middle;\n",
       "    }\n",
       "\n",
       "    .dataframe tbody tr th {\n",
       "        vertical-align: top;\n",
       "    }\n",
       "\n",
       "    .dataframe thead th {\n",
       "        text-align: right;\n",
       "    }\n",
       "</style>\n",
       "<table border=\"1\" class=\"dataframe\">\n",
       "  <thead>\n",
       "    <tr style=\"text-align: right;\">\n",
       "      <th></th>\n",
       "      <th>Date</th>\n",
       "      <th>Close</th>\n",
       "      <th>Date2</th>\n",
       "      <th>Volume</th>\n",
       "    </tr>\n",
       "  </thead>\n",
       "  <tbody>\n",
       "    <tr>\n",
       "      <th>0</th>\n",
       "      <td>2017-12-15</td>\n",
       "      <td>3.868680</td>\n",
       "      <td>2013-01-02</td>\n",
       "      <td>60</td>\n",
       "    </tr>\n",
       "    <tr>\n",
       "      <th>1</th>\n",
       "      <td>2017-12-16</td>\n",
       "      <td>4.612111</td>\n",
       "      <td>2013-01-03</td>\n",
       "      <td>88</td>\n",
       "    </tr>\n",
       "    <tr>\n",
       "      <th>2</th>\n",
       "      <td>2017-12-17</td>\n",
       "      <td>5.486670</td>\n",
       "      <td>2013-01-04</td>\n",
       "      <td>25</td>\n",
       "    </tr>\n",
       "    <tr>\n",
       "      <th>3</th>\n",
       "      <td>2017-12-18</td>\n",
       "      <td>5.422948</td>\n",
       "      <td>2013-01-07</td>\n",
       "      <td>131</td>\n",
       "    </tr>\n",
       "    <tr>\n",
       "      <th>4</th>\n",
       "      <td>2017-12-19</td>\n",
       "      <td>5.432640</td>\n",
       "      <td>2013-01-08</td>\n",
       "      <td>84</td>\n",
       "    </tr>\n",
       "  </tbody>\n",
       "</table>\n",
       "</div>"
      ],
      "text/plain": [
       "         Date     Close       Date2  Volume\n",
       "0  2017-12-15  3.868680  2013-01-02      60\n",
       "1  2017-12-16  4.612111  2013-01-03      88\n",
       "2  2017-12-17  5.486670  2013-01-04      25\n",
       "3  2017-12-18  5.422948  2013-01-07     131\n",
       "4  2017-12-19  5.432640  2013-01-08      84"
      ]
     },
     "execution_count": 17,
     "metadata": {},
     "output_type": "execute_result"
    }
   ],
   "source": [
    "import pandas as pd\n",
    "\n",
    "# Load the CSV file into a DataFrame\n",
    "file_path = r'C:\\Users\\Weesam\\Documents\\School\\UOFT Work\\Project-1-Group-1\\BNB_data.csv'\n",
    "df = pd.read_csv(file_path)\n",
    "\n",
    "# Change the format of 'Date' column\n",
    "df['Date'] = pd.to_datetime(df['Date']).dt.strftime('%Y-%m-%d')\n",
    "\n",
    "# Change the format of 'Date2' column\n",
    "df['Date2'] = pd.to_datetime(df['Date2']).dt.strftime('%Y-%m-%d')\n",
    "\n",
    "df.head()\n"
   ]
  },
  {
   "cell_type": "code",
   "execution_count": 18,
   "id": "4d729b0a-10ea-4d80-9621-0f1906909985",
   "metadata": {
    "tags": []
   },
   "outputs": [],
   "source": [
    "# Load the CSV file into a DataFrame\n",
    "file_path = r'C:\\Users\\Weesam\\Documents\\School\\UOFT Work\\Project-1-Group-1\\BNB_data.csv'\n",
    "df = pd.read_csv(file_path)\n",
    "\n",
    "# Convert 'Date' and 'Date2' columns to datetime objects\n",
    "df['Date'] = pd.to_datetime(df['Date']).dt.strftime('%Y-%m-%d')\n",
    "df['Date2'] = pd.to_datetime(df['Date2']).dt.strftime('%Y-%m-%d')\n",
    "\n",
    "# Create a new column 'Matching Date'\n",
    "df['Matching Date'] = df['Date'].where(df['Date'] == df['Date2'])\n",
    "\n",
    "# Save the updated DataFrame back to a CSV file on your desktop\n",
    "desktop_path = r'C:\\Users\\Weesam\\Documents\\School\\UOFT Work\\Project-1-Group-1\\test.csv'\n",
    "df.to_csv(desktop_path, index=False)\n"
   ]
  },
  {
   "cell_type": "code",
   "execution_count": 19,
   "id": "5cb58820-33d9-4ec1-88c1-f11b9b05978c",
   "metadata": {
    "tags": []
   },
   "outputs": [],
   "source": [
    "#Seperate The Columns\n",
    "# Load the original CSV file into a DataFrame\n",
    "file_path = r'C:\\Users\\Weesam\\Documents\\School\\UOFT Work\\Project-1-Group-1\\BNB_data.csv'\n",
    "df = pd.read_csv(file_path)\n",
    "\n",
    "# Create a DataFrame with columns 'Date' and 'Close'\n",
    "df_close = df[['Date', 'Close']]  # Replace 'Close' with the actual column name\n",
    "\n",
    "# Create a DataFrame with columns 'Date2' and 'Volume'\n",
    "df_volume = df[['Date2', 'Volume']]  # Replace 'Volume' with the actual column name\n",
    "\n",
    "# Define file paths for the new CSV files\n",
    "file_path_close = r'C:\\Users\\Weesam\\Documents\\School\\UOFT Work\\Project-1-Group-1\\test.csv'\n",
    "file_path_volume = r'C:\\Users\\Weesam\\Documents\\School\\UOFT Work\\Project-1-Group-1\\test.csv'\n",
    "\n",
    "# Save the DataFrames to separate CSV files\n",
    "df_close.to_csv(file_path_close, index=False)\n",
    "df_volume.to_csv(file_path_volume, index=False)\n"
   ]
  },
  {
   "cell_type": "code",
   "execution_count": 20,
   "id": "d8628cf6-82c7-4033-a12b-c76d2e8ab4c6",
   "metadata": {
    "tags": []
   },
   "outputs": [],
   "source": [
    "#Reformated The dates, and removed the time stamps \n",
    "# Load the CSV file into a DataFrame\n",
    "file_path_close = r'C:\\Users\\Weesam\\Documents\\School\\UOFT Work\\Project-1-Group-1\\BNB_data.csv'\n",
    "df_close = pd.read_csv(file_path_close)\n",
    "\n",
    "# Convert 'Date' column to datetime objects and format as date\n",
    "df_close['Date'] = pd.to_datetime(df_close['Date']).dt.date\n",
    "\n",
    "# Define the file path for the updated CSV file\n",
    "updated_close_file_path = r'C:\\Users\\Weesam\\Documents\\School\\UOFT Work\\Project-1-Group-1\\test.csv'\n",
    "\n",
    "# Save the updated DataFrame back to a CSV file\n",
    "df_close.to_csv(updated_close_file_path, index=False)\n"
   ]
  },
  {
   "cell_type": "code",
   "execution_count": 21,
   "id": "54d6fa21-0b73-4422-953e-cae64ba07db7",
   "metadata": {
    "tags": []
   },
   "outputs": [],
   "source": [
    "#Reformated The dates, and removed the time stamps \n",
    "# Load the CSV file into a DataFrame\n",
    "file_path_volume = r'C:\\Users\\Weesam\\Documents\\School\\UOFT Work\\Project-1-Group-1\\BNB_data.csv'\n",
    "df_volume = pd.read_csv(file_path_volume)\n",
    "\n",
    "# Convert 'Date' column to datetime objects and format as date\n",
    "df_volume['Date2'] = pd.to_datetime(df_volume['Date2']).dt.date\n",
    "\n",
    "# Define the file path for the updated CSV file\n",
    "updated_volume_file_path = r'C:\\Users\\Weesam\\Documents\\School\\UOFT Work\\Project-1-Group-1\\test.csv'\n",
    "\n",
    "# Save the updated DataFrame back to a CSV file\n",
    "df_volume.to_csv(updated_volume_file_path, index=False)\n"
   ]
  },
  {
   "cell_type": "code",
   "execution_count": 22,
   "id": "d8fc51b6-9208-4bf6-a8e9-ca08ca8be7f2",
   "metadata": {
    "tags": []
   },
   "outputs": [],
   "source": [
    "#Merge both dataframes together \n",
    "# Load the CSV files into DataFrames\n",
    "file_path_close = r'C:\\Users\\Weesam\\Documents\\School\\UOFT Work\\Project-1-Group-1\\BNB_data.csv'  # Updated close data file\n",
    "file_path_volume = r'C:\\Users\\Weesam\\Documents\\School\\UOFT Work\\Project-1-Group-1\\BNB_data.csv'  # Updated volume data file\n",
    "\n",
    "df_close = pd.read_csv(file_path_close)\n",
    "df_volume = pd.read_csv(file_path_volume)\n",
    "\n",
    "# Merge DataFrames using the 'Date' column from df_close and the 'Date2' column from df_volume as the keys\n",
    "merged_df = df_close.merge(df_volume, left_on='Date', right_on='Date2', how='inner')\n",
    "\n",
    "# Define the file path for the merged CSV file\n",
    "merged_file_path = r'C:\\Users\\Weesam\\Documents\\School\\UOFT Work\\Project-1-Group-1\\test.csv'\n",
    "\n",
    "# Save the merged DataFrame to a CSV file\n",
    "merged_df.to_csv(merged_file_path, index=False)\n"
   ]
  }
 ],
 "metadata": {
  "kernelspec": {
   "display_name": "Python 3 (ipykernel)",
   "language": "python",
   "name": "python3"
  },
  "language_info": {
   "codemirror_mode": {
    "name": "ipython",
    "version": 3
   },
   "file_extension": ".py",
   "mimetype": "text/x-python",
   "name": "python",
   "nbconvert_exporter": "python",
   "pygments_lexer": "ipython3",
   "version": "3.10.12"
  }
 },
 "nbformat": 4,
 "nbformat_minor": 5
}
